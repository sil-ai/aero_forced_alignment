{
 "cells": [
  {
   "cell_type": "code",
   "execution_count": 1,
   "metadata": {},
   "outputs": [
    {
     "name": "stdout",
     "output_type": "stream",
     "text": [
      "['JHN_002_001-002_025.mp3', 'JHN_001_001-001_051.mp3']\n"
     ]
    }
   ],
   "source": [
    "import boto3\n",
    "import dotenv\n",
    "import IPython.display as ipd\n",
    "import os\n",
    "import pandas as pd\n",
    "import re\n",
    "import torchaudio\n",
    "\n",
    "from datasets import Dataset, Audio\n",
    "\n",
    "audio_files = os.listdir('audio/John')\n",
    "print(audio_files)"
   ]
  },
  {
   "cell_type": "code",
   "execution_count": 2,
   "metadata": {},
   "outputs": [
    {
     "name": "stdout",
     "output_type": "stream",
     "text": [
      "Start:  JHN 002 001\n",
      "End:  JHN 001 051\n"
     ]
    }
   ],
   "source": [
    "start_match = re.search(r'([A-Za-z]+)_(\\d{3})_(\\d{3})', audio_files[0])\n",
    "start_book, start_ch, start_vs = start_match.groups()\n",
    "end_match = re.search(r'([A-Za-z]+)_(\\d{3})_(\\d{3})-(\\d{3})_(\\d{3})', audio_files[-1])\n",
    "end_book, _, _, end_ch, end_vs = end_match.groups()\n",
    "print(\"Start: \", start_book, start_ch, start_vs)\n",
    "print(\"End: \", end_book, end_ch, end_vs)"
   ]
  },
  {
   "cell_type": "code",
   "execution_count": null,
   "metadata": {},
   "outputs": [],
   "source": [
    "# load Chichewa John 1 and 2 from text file\n",
    "with open(\"nya_jhn1_2.txt\", \"r\", encoding='utf-8') as file:\n",
    "    nya_jhn_lines = file.readlines()\n",
    "    nya_jhn_lines = [l.strip() for l in nya_jhn_lines]\n",
    "\n",
    "# load vref from text file and find start and end index for John 1:1 to John 1:5\n",
    "with open(\"vref.txt\", \"r\") as file:\n",
    "    vref_lines = file.readlines()\n",
    "    for index, line in enumerate(vref_lines):\n",
    "        if line.strip() == f\"{start_book} {str(int(start_ch))}:{str(int(start_vs))}\":\n",
    "            start_index = index\n",
    "        if line.strip() == f\"{end_book} {str(int(end_ch))}:{str(int(end_vs))}\":\n",
    "            end_index = index\n",
    "            break\n",
    "\n",
    "# view first three lines of John 1\n",
    "#for i in range(start_index, start_index + 3):\n",
    "#    print(vref_lines[i], nya_jhn_lines[i])\n",
    "#\n",
    "#vref_lines = vref_lines[start_index:end_index]\n",
    "#nya_jhn_lines = nya_jhn_lines[start_index:end_index]"
   ]
  },
  {
   "cell_type": "code",
   "execution_count": null,
   "metadata": {},
   "outputs": [
    {
     "data": {
      "text/plain": [
       "{'key': 'JHN 1:1\\n',\n",
       " 'text': 'Pachiyambi panali Mawu, ndipo Mawu anali kwa Mulungu, ndipo Mawu ndiye Mulungu.'}"
      ]
     },
     "execution_count": 4,
     "metadata": {},
     "output_type": "execute_result"
    }
   ],
   "source": [
    "ref_data = [{'key': vl, 'text': rl} for vl, rl in zip(vref_lines, nya_jhn_lines)]\n",
    "ref_data_items = [[verse for verse in ref_data if verse['key'].startswith('JHN 1')], \n",
    "                  [verse for verse in ref_data if verse['key'].startswith('JHN 2')]]\n",
    "ref_data_items[0][0]"
   ]
  },
  {
   "cell_type": "code",
   "execution_count": 4,
   "metadata": {},
   "outputs": [
    {
     "data": {
      "text/plain": [
       "[{'key': '1a ', 'text': 'नमस्ते'},\n",
       " {'key': '1b ', 'text': 'मेरो नाम सम्झना थापा हो'},\n",
       " {'key': '1c ', 'text': 'म नेपालमा बस्छु'}]"
      ]
     },
     "execution_count": 4,
     "metadata": {},
     "output_type": "execute_result"
    }
   ],
   "source": [
    "file_path = \"nepali_deva5s.txt\"\n",
    "file_paths = [file_path]\n",
    "ref_data_items = []\n",
    "for file_path in file_paths:\n",
    "    with open(file_path, 'r') as file:\n",
    "        file_data = []\n",
    "        for line in file:\n",
    "            key, text = line.split('|')\n",
    "            file_data.append({'key': key, 'text': text.strip()})\n",
    "    ref_data_items.append(file_data)\n",
    "ref_data_items[0][:3]"
   ]
  },
  {
   "cell_type": "code",
   "execution_count": 5,
   "metadata": {},
   "outputs": [
    {
     "data": {
      "text/plain": [
       "['s3://forcedalignment/input_data/audio/Chichewa_John_1-2/JHN_001_001-001_051.mp3',\n",
       " 's3://forcedalignment/input_data/audio/Chichewa_John_1-2/JHN_002_001-002_025.mp3']"
      ]
     },
     "execution_count": 5,
     "metadata": {},
     "output_type": "execute_result"
    }
   ],
   "source": [
    "def get_s3_object_urls(bucket_name, folder_prefix):\n",
    "  s3_client = boto3.client('s3')\n",
    "  object_urls = []\n",
    "  response = s3_client.list_objects_v2(Bucket=bucket_name, Prefix=folder_prefix)\n",
    "  if 'Contents' in response:\n",
    "    for obj in response['Contents']:\n",
    "      object_url = f\"https://{bucket_name}.s3.amazonaws.com/{obj['Key']}\"\n",
    "      object_urls.append(object_url.replace(f\"https://\", \"s3://\").replace('.s3.amazonaws.com', ''))\n",
    "\n",
    "  return [url for url in object_urls if url.endswith((\".wav\", \".mp3\", \".m4a\"))]\n",
    "\n",
    "bucket = 'forcedalignment'\n",
    "folder = 'input_data/audio/Chichewa_John_1-2/'\n",
    "\n",
    "s3paths = get_s3_object_urls(bucket, folder)\n",
    "s3paths"
   ]
  },
  {
   "cell_type": "code",
   "execution_count": null,
   "metadata": {},
   "outputs": [],
   "source": [
    "file_path = \"MYK-10-MAT-02-phrases.txt\"\n",
    "#file_path = 'nepali_deva5s.txt'\n",
    "#file_path = 'nepali5s.txt'\n",
    "file_paths = [file_path]\n",
    "ref_data_items = []\n",
    "for file_path in file_paths:\n",
    "    with open(file_path, 'r') as file:\n",
    "        file_data = []\n",
    "        for line in file:\n",
    "            key, text = line.split('|')\n",
    "            file_data.append({'key': key, 'text': text.strip()})\n",
    "    ref_data_items.append(file_data)\n",
    "audio_files = [\n",
    "    {'s3_path': 's3://forcedalignment/Matthieu/B01___02_Matthieu____MYKWBTN2DA.mp3',\n",
    "    #{'s3_path': 's3://forcedalignment/Matthieunepali_5s_denoised.wav',\n",
    "    'ref_text': ref_data_items[0]}\n",
    "]\n",
    "audio_files\n",
    "\n",
    "import modal\n",
    "import pandas as pd\n",
    "\n",
    "# Get the Modal app (new function-based approach)\n",
    "align_from_s3_parallel = modal.Function.lookup(\"general-forced-alignment\", \n",
    "#align_from_dataset_parallel = modal.Function.lookup(\"general-forced-alignment\",\n",
    "\"align_from_s3_parallel\",\n",
    "#\"align_from_dataset_parallel\",\n",
    "environment_name=\"dev\"\n",
    ")\n",
    "\n",
    "fa_results = align_from_s3_parallel.remote(\n",
    "    audio_files=audio_files,\n",
    "    romanize=True,\n",
    "    #mms_lang='npi',\n",
    "    mms_lang='swh',\n",
    "    batch_size=1,     # Process files in parallel\n",
    "    output_dataset_name=None  # Don't create HF dataset, just return results\n",
    ")\n",
    "\n",
    "#fa_results = align_from_dataset_parallel.remote(\n",
    "#    dataset_name=\"sil-ai/senga-nt-asr-inferred\",\n",
    "#    text_column=\"text\",\n",
    "#    audio_column=\"audio\",\n",
    "#    max_words=80,\n",
    "#    romanize=False,\n",
    "#    mms_lang=\"swh\",\n",
    "#    output_dataset_name=\"sil-ai/forced-alignment-API-test\",\n",
    "#    batch_size=10,\n",
    "#    limit=10,  # Don't process all 1000+ files, just a few for testing\n",
    "#)\n",
    "\n",
    "fa_results_df = pd.DataFrame.from_dict(fa_results)\n",
    "fa_results_df"
   ]
  },
  {
   "cell_type": "code",
   "execution_count": 34,
   "metadata": {},
   "outputs": [
    {
     "name": "stdout",
     "output_type": "stream",
     "text": [
      "<class 'list'>\n",
      "[{'chunk_id': 'train_sample_0_chunk_0', 'text': 'Lomba ndipo upiwenge, Penja ndipo usangenge, khokhosha ndipo kujulikenge kwa iwe. Poti aliyose uyo olomba opokela, aliyose uyo openja osanga, ndipo uyo okhokhosha chijalo chijulikenge. Kasi linjani wa imwe pala mwana wake walomba chibama omupa libwe? Panji pala alomba somba, omupa njoka? Pala imwe baheni, mumanya kupeleka vyawanangwa viweme ku bana bini. Naye usemwe kuchanya, opeleka vyawanangwa viwemwe mozyumbisha ku abo bomulomba, chitilani banyinu umo mupenjela kuti nabo bamuchitilani. Ichi ndicho chiyowoyeka mu lamulo na zinchimi.', 'source_sample_id': 'train_sample_0', 'chunk_index': 0, 'start': 19.368, 'end': 19.468, 'duration': 0.1, 'word_count': 76, 'asr_transcription': '', 'match_score': 0, 'dataset_name': 'sil-ai/senga-nt-asr-inferred', 'split': 'train'}, {'chunk_id': 'train_sample_1_chunk_0', 'text': 'Ndipo nkhawona mungelo kukhilila kufuma kuchanya na chivumbila chikhululu chambula kugota na chicheni chikulu chiwoko chake, akakola chinjoka chakale cho nsatana nochikakilila kwa vyaka chiku chimose, akachiponye mchikhululu chambula kugota nokhoma nomatapo pa mpata kuti chileke kuzyanga sovyalo mpaka vyaka chiku chimose vikamale, kuvuma apo chezamupenjeka ku satulika pakanyeko kadoko.', 'source_sample_id': 'train_sample_1', 'chunk_index': 0, 'start': 13.051, 'end': 13.151, 'duration': 0.1, 'word_count': 50, 'asr_transcription': '', 'match_score': 0, 'dataset_name': 'sil-ai/senga-nt-asr-inferred', 'split': 'train'}, {'chunk_id': 'train_sample_2_chunk_0', 'text': 'Helodi akabakalipila chomene banthu batile na Sidoni, ndipo bakakumana pamoza nozipeleka panthazi pake. Mbulasitasi nduna ya fumu akati wabazomelela kubavwila, bakapempha kupulikana chifukwa chalochabo chikatolanga vyakulya ku chalo cha fumu Helodi. Pazuba lobikikilathu, Helodi akavwala mukhanjo wa chifumu nokhala pa chizumbe chake noyoya nabo. Ndipo mzinda ukayamba kutambikizya kuti, Nimazyo ya munthu yaye, kwene ya chiuta. Penepapo mungelo wa fumu akamukhwema chifukwa akapeleka uchindami kwa chiuta yayi, ndipo akalyewa na munyololo nokufwa.', 'source_sample_id': 'train_sample_2', 'chunk_index': 0, 'start': 19.944, 'end': 20.044, 'duration': 0.1, 'word_count': 72, 'asr_transcription': '', 'match_score': 0, 'dataset_name': 'sil-ai/senga-nt-asr-inferred', 'split': 'train'}, {'chunk_id': 'train_sample_2_chunk_1', 'text': 'Kwene mazyo ya chiuta yakalutilila kuphalazyika ndipo wogomezya bakanjipilangako.', 'source_sample_id': 'train_sample_2', 'chunk_index': 1, 'start': 21.924999999999997, 'end': 22.025, 'duration': 0.1, 'word_count': 9, 'asr_transcription': '', 'match_score': 0, 'dataset_name': 'sil-ai/senga-nt-asr-inferred', 'split': 'train'}, {'chunk_id': 'train_sample_3_chunk_0', 'text': 'Mwabana pulikila na apapi binu mu vyose chifukwa ichi chikondwelesha Chiuti, apapi lekani kukatipisha bana binu chifukwa balekenge kumukondolesha Chiuti.', 'source_sample_id': 'train_sample_3', 'chunk_index': 0, 'start': 3.983, 'end': 4.083, 'duration': 0.1, 'word_count': 20, 'asr_transcription': '', 'match_score': 0, 'dataset_name': 'sil-ai/senga-nt-asr-inferred', 'split': 'train'}, {'chunk_id': 'train_sample_4_chunk_0', 'text': 'Bose abo bemugoliwoli la wuzyi, bapeleke ulemu kwa obebakola wuzya kuti zina la Chiuta na visambizyo vithu vileketukika. Abo bekoleka uzya kubogomezya, banga basulanga yayi poti mbabale babo mchigomezyo, kwene wokwenela ku basebezela makola chifukwa wosanga phindu mu nchito yabo, mbachigomezyo nobotemweka babo. Ivi ndivyo okonela ku basambizya nobachisha.', 'source_sample_id': 'train_sample_4', 'chunk_index': 0, 'start': 20.473, 'end': 20.573, 'duration': 0.1, 'word_count': 49, 'asr_transcription': '', 'match_score': 0, 'dataset_name': 'sil-ai/senga-nt-asr-inferred', 'split': 'train'}, {'chunk_id': 'train_sample_5_chunk_0', 'text': 'Nomba pa visungu vyambula akhala po malo yamoza na nalume, nilije lamulo kufuma kwa Fumu, kwene nuyeluzya nga ni uyo kupichila mu lusungu lwa Fumu, ekomezyeka, chifukwa chosozika kwa nomba, noganiza kuti nchiwimi kuti mukhale umo mulili. Kasi ndimwe botola kufwaya fungulana yayi, Kasi ndimwe bambula tola, kufwaya tola yayi.', 'source_sample_id': 'train_sample_5', 'chunk_index': 0, 'start': 5.422000000000001, 'end': 5.522, 'duration': 0.1, 'word_count': 50, 'asr_transcription': '', 'match_score': 0, 'dataset_name': 'sil-ai/senga-nt-asr-inferred', 'split': 'train'}, {'chunk_id': 'train_sample_5_chunk_1', 'text': 'Kwene pa watola, kundanange, ndipo pa chisungu chambulakana ko malo ya mose na mwanalume chatengwa chindanange, kwene abo bemunchengwa bakumanenge na masuzyo ya nandi mu moyo wunu, ndipo ine nufwaya kumupulumushani ku ichi.', 'source_sample_id': 'train_sample_5', 'chunk_index': 1, 'start': 6.463, 'end': 6.563, 'duration': 0.1, 'word_count': 33, 'asr_transcription': '', 'match_score': 0, 'dataset_name': 'sil-ai/senga-nt-asr-inferred', 'split': 'train'}, {'chunk_id': 'train_sample_6_chunk_0', 'text': 'Kasi mumanya yayi kuti abo bolimbana pa masebelo yochimbila? Bose bochimbila, kwene yumoza waka ndiye yopoka njombi. Ntheula chimbilani kuti mukapokenjombi. Munthu aliyose uyo ochita masebelo yolimba ojikola mu vinthu vinandi. Ochita nthana kuti akapoke mphombu iyo yumala, kwene ise tulimbana kuti tikabokele mphombu yambula mala. Ntheula kuti nuchimbila nga ni munthu uyo ochimbila wakagweka yayi, kuti nutimba nga ni munthu uyo otimba mtunga yayi? Yayi, nutimba thupi yane, ndipo nuyizyola uzya kuti pana phalazya kwa nyake. Ine nkhaleketondeka kupokanjombi.', 'source_sample_id': 'train_sample_6', 'chunk_index': 0, 'start': 12.944, 'end': 13.044, 'duration': 0.1, 'word_count': 80, 'asr_transcription': '', 'match_score': 0, 'dataset_name': 'sil-ai/senga-nt-asr-inferred', 'split': 'train'}, {'chunk_id': 'train_sample_7_chunk_0', 'text': 'Nomba pa vyawananga vya mzimu mtuba abale, nufwayayi kuti mweyo bambula amanya. Mumanya kuti apo mukaba banthu bambula kamanya chiuta, Munthu waimoza panji nyake? Mukakhubizyika nopulushikila ku vikhozyo. Ntheula numuphalelani kuti, Kulije uyo oyowoya modangilika na mzimu mtuba angayowoya kuti, Yesu atembeke, ndipo palizye uyo wangayowoya kuti, Yesu nifumu, ni apo pela adangilika na mzimu mtuba.', 'source_sample_id': 'train_sample_7', 'chunk_index': 0, 'start': 22.044999999999998, 'end': 22.145, 'duration': 0.1, 'word_count': 56, 'asr_transcription': '', 'match_score': 0, 'dataset_name': 'sil-ai/senga-nt-asr-inferred', 'split': 'train'}, {'chunk_id': 'train_sample_8_chunk_0', 'text': 'Apo Yesu akati afika ku malo ya Kayisala Filipo, akafumba basambili bake kuti, \"Kasi banthu boti mwana wa Munthu ni njani? \" Ndipo bakazyola kuti, \"Banyake boyowoya kuti ndimwe Yohani Mubatizi, banyake boti ndimwe Eliya, kweneso banyake boti ndimwe Yelemiya panji yumoza wa zinchimi? \" Kwene Yesu akafumba kuti, \"Nanga imwe muti ndine njani? \" Ndipo Simoni Petulo akazyola kuti, \"Ndimwe Khlistu mwana wa Chiuta wamoyo!', 'source_sample_id': 'train_sample_8', 'chunk_index': 0, 'start': 7.041, 'end': 7.141, 'duration': 0.1, 'word_count': 66, 'asr_transcription': '', 'match_score': 0, 'dataset_name': 'sil-ai/senga-nt-asr-inferred', 'split': 'train'}, {'chunk_id': 'train_sample_8_chunk_1', 'text': '\" Yesu akazyola kuti, \"Ndiwe otumbikika Simoni mwana wa Yona, chifukwa ichi chindavumbulike kwa iwe na munthu kwene na Atata bakuchanya. Ntheula nukuphalila kuti, \"Ndiwe Petulo, ndipo palibwe iyo nizengengepo mpingo wane, ndipo nkhongono za nyifwa zizamukutonda yayi! Ntheula nikupenge vyojulila ufumu wa kuchanya, chose icho ukakenge pano pasi chikakikenge kuchanya, ndipo chose icho usatulenge pano pasi chisatulikenge kuchanya. \" Penepapo akabachenjeza basambili bake kuti, \"Bangaphalilanga banthu yayi kuti iye ndiye Khlistu. \"', 'source_sample_id': 'train_sample_8', 'chunk_index': 1, 'start': 37.644, 'end': 37.744, 'duration': 0.1, 'word_count': 73, 'asr_transcription': '', 'match_score': 0, 'dataset_name': 'sil-ai/senga-nt-asr-inferred', 'split': 'train'}, {'chunk_id': 'train_sample_9_chunk_0', 'text': 'Mu nyengo iyi, nchimi zinyake zikakilela ko anti yokikufuma ku Yelusalemu. Yumoza wa izo zina lake agabasi akamilila, akachima kupitila mu mzimu utuba kuti, \"Njala ikulu izamkuwa malo yose ya mchalo chaloma! \" Ichi chikachitika mu nyengo ya ulamulili wakila idiyasi. Ntheula basambili nga ni umo walyose akakwanilishilanga kusanga chakulya bakazomelezyana kutuma ovwili ku babale abo bakhalanga mu chalo cha Yudeya. Bakachita ichi potuma vyawonangwa vyabo kubadangilili kupitila mwa Abana basi na Sauli.', 'source_sample_id': 'train_sample_9', 'chunk_index': 0, 'start': 22.988999999999997, 'end': 23.089, 'duration': 0.1, 'word_count': 73, 'asr_transcription': '', 'match_score': 0, 'dataset_name': 'sil-ai/senga-nt-asr-inferred', 'split': 'train'}, {'chunk_id': 'validation_sample_0_chunk_0', 'text': 'Ntheula bakamuletela munthu uyo akaba na vibanda ndipo akaba mphofu kweneso chiwuwu. Yesu akati wamuchizya akayamba kuchencheba noyowoya. Nipela banthu bose bakadabwa ndipo bakati, Kasi uyo angaba mwana wa Davide? Kwene bafalisi bakati bapulika ichi bakayowoya kuti, Kupitila mwabezebule mukulu wa vibanda ofunya vibanda. Yesu akamanya maganizo yabo ndipo akati kwa ibo, Ufumu uli wose uwo ngogabikana pa ibo weka uzamubwanga nduka. Ndipo musumba panji nyumba iliyose yogabikana pa iyo yeka yizamukuwa. Pala Satana ofunya Satana, nipela ogabikana yeka.', 'source_sample_id': 'validation_sample_0', 'chunk_index': 0, 'start': 60.864, 'end': 60.964, 'duration': 0.1, 'word_count': 79, 'asr_transcription': '', 'match_score': 0, 'dataset_name': 'sil-ai/senga-nt-asr-inferred', 'split': 'validation'}, {'chunk_id': 'validation_sample_0_chunk_1', 'text': 'Nomba ufumu wake ungakhola uli? Kasi pala ine nufunya vibanda kupitila mwabezebule, nanga bana binu wofunya kupitila mu zina lanjani? Nipela ibo bamukuba beluzi binu. Kwene pala nufunya vibanda na mzimu wa Chiuta, ndiko kuti ufumu wa Chiuta waza pa imwe. Kasi munthu anganjila uli mu nyumba ya munthu wankhongono nokuba chuma chake? Kwene pala amukaka wankhongono yula ndipo abenge chuma chake.', 'source_sample_id': 'validation_sample_0', 'chunk_index': 1, 'start': 64.86500000000001, 'end': 64.965, 'duration': 0.1, 'word_count': 62, 'asr_transcription': '', 'match_score': 0, 'dataset_name': 'sil-ai/senga-nt-asr-inferred', 'split': 'validation'}, {'chunk_id': 'validation_sample_0_chunk_2', 'text': 'Uyo yose opulika na nane yayi, ni mulwani wane ndipo yose uyo osebeza pamoza na ine yayi, ndiko kuti opalanya. Numuphalilani kuti, uyo yose onanga noyowoya vyamwikho azamugowokeleka kwene uyo yose oyowoyela mzimu utuba vyamwikho azamugowokeleka yayi. Ndipo uyo yose oyowoya mazyo yaheni pa mwana wa munthu azamugowokeleka kwene uyo oyowoyela mzimu utuba mazyo yaheni azamugowokeleka yayi, muwilo walelo panji na muwilo ubo ukwiza.', 'source_sample_id': 'validation_sample_0', 'chunk_index': 2, 'start': 95.62700000000001, 'end': 95.727, 'duration': 0.1, 'word_count': 64, 'asr_transcription': '', 'match_score': 0, 'dataset_name': 'sil-ai/senga-nt-asr-inferred', 'split': 'validation'}, {'chunk_id': 'validation_sample_1_chunk_0', 'text': 'Kwene nomba, nthowa iyo chiuta olunjishila banthu ya vumbulika. Dango lilije nchito pa nthowa iyi, nangauli dango na nchimi fuyikhalila ukaboni. Nthowa yake njoti chiuta alunjishe banthu kupitila muchigomezyo chabo mwa Yesu Khlistu. Chiuta ochita ichi kubanthu wose abo bogomezya mwa Yesu Khlistu, poti palije mphambano pakati pa banthu bose. Poti banthu bose mbonanga ndipo mbopelebela ku uchindami wa chiuta.', 'source_sample_id': 'validation_sample_1', 'chunk_index': 0, 'start': 1.72, 'end': 1.82, 'duration': 0.1, 'word_count': 60, 'asr_transcription': '', 'match_score': 0, 'dataset_name': 'sil-ai/senga-nt-asr-inferred', 'split': 'validation'}, {'chunk_id': 'validation_sample_1_chunk_1', 'text': 'Ndipo banthu wose bolunjishika na chawanangwa cha uchizi wa chiuta, boneka kuti mbalunji pa meso pa chiuta chifukwa cha Khlistu Yesu uyo akaba wombola. Chiuta akamupeleka Yesu mwakuti na nyifwa yake abesembe yogokela zakwananga za bose abo bogomezya mwa iye. Chiuta akachita ichi kuti alongole ulunji wake. Chifukwa kale chiuta akasula zakwananga za banthu. Kwene nomba chiuta akachita ichi kuti alongole ulunji wake lelo poti iye mwenecho ni mulunji, ndipo ndiye olunjisha bose abo bogomezya mwa Yesu.', 'source_sample_id': 'validation_sample_1', 'chunk_index': 1, 'start': 3.86, 'end': 3.96, 'duration': 0.1, 'word_count': 77, 'asr_transcription': '', 'match_score': 0, 'dataset_name': 'sil-ai/senga-nt-asr-inferred', 'split': 'validation'}, {'chunk_id': 'validation_sample_2_chunk_0', 'text': 'Ndipo nomba mwawogomezya banyani, tupenja kuti mumanya zawezi uwo Chiuta yepeleka ku mipingo ya makedoniya. Muvyezya vihene chomene na mchimwemwe chawo chojumphisha ndipo na mukavi wabo ojumbhisha mukafuma kupeleka kosumila pasi pa mtimu. Yubakapeleka kulingana na umo bakakwanishilanga nojumbisha pa ibo beka. Iwo bakalekapo yayi kuti beya kuti nabo babyananjito yochita ku bosanjika. Ndipo bakachita kulingana na umo ise tikaganjilanga kuti bangachitila yayi. Kwene bakachipeleka kwa Fumu, na kwa ise nopitilizya kulondezya khumbilo la Chiuta.', 'source_sample_id': 'validation_sample_2', 'chunk_index': 0, 'start': 37.406, 'end': 37.506, 'duration': 0.1, 'word_count': 75, 'asr_transcription': '', 'match_score': 0, 'dataset_name': 'sil-ai/senga-nt-asr-inferred', 'split': 'validation'}, {'chunk_id': 'validation_sample_2_chunk_1', 'text': 'Ntheula chifukwa tito akapemphakale kuti naya kwanilishe nchito yawezi imwa imwe, ise tikamukhwimizya. Nomba apo muchita makola mu vyose, apo muchita makola mchigomezyo mukayowoyelo mu umanyi, napo muchipeleka kofikapo kuchita viwemi vyose na mchitemwa chinu pa ise wonesichani kuti muchita makola mungwezi uwo opeleka uvwizi.', 'source_sample_id': 'validation_sample_2', 'chunk_index': 1, 'start': 54.228, 'end': 54.328, 'duration': 0.1, 'word_count': 45, 'asr_transcription': '', 'match_score': 0, 'dataset_name': 'sil-ai/senga-nt-asr-inferred', 'split': 'validation'}, {'chunk_id': 'validation_sample_3_chunk_0', 'text': 'Pa nyengo ila bazakumupelekani ku masuzyo nomukomani, bamitundi yose bazakumtinkhani chifukwa cha zina lani. Ndipo pa nyengo ila banthu banandi bazamtaya chigomezyo chabo ndipo bazamundela na fisha notinkhani. Ndipo nchimi zinandi zitesi zamonekela nozyanga banthu banandi, chifukwa chakunjipa kwa uheni, banthu banandi bazamuleka kute mwabanyabo. Kwene uyo ozizipizya mpaka pa umalilo azamuponosheka. Mazye yawemi ya ufumu yazamuphalazyika pa chalo chose cha pasi kuba ukaboni ku mitundu yose ndipo umalilo uzamukwiza.', 'source_sample_id': 'validation_sample_3', 'chunk_index': 0, 'start': 23.144, 'end': 23.244, 'duration': 0.1, 'word_count': 70, 'asr_transcription': '', 'match_score': 0, 'dataset_name': 'sil-ai/senga-nt-asr-inferred', 'split': 'validation'}, {'chunk_id': 'validation_sample_4_chunk_0', 'text': 'Nipela nkhawona vitengo vya chifumu apo pakakhalabo bakati wamazaza ku Yeluzyi. Nkhawona somizimi ya abo bakadumuli wa mitu chifukwa cha ukaboni wabo pa Yesu na mazyo ya Chiuta. Iwo bakachisopa pa chikoko panji chikozyo chake. Ntheula bakapokelayi vimanyikulo vyake pamphumilo sabo panji pa vywoko vyabo. Bakawuka nolamulila na Khlistu kwa vyaka chiku chimoso. Kwene banyake bokufwa bakawuka mpaka vyaka chiku chimoza vikamala, ichi nchiuka choyamba. Botumbikika na batuba ni abo bokapa chiuka choyamba.', 'source_sample_id': 'validation_sample_4', 'chunk_index': 0, 'start': 15.867, 'end': 15.967, 'duration': 0.1, 'word_count': 73, 'asr_transcription': '', 'match_score': 0, 'dataset_name': 'sil-ai/senga-nt-asr-inferred', 'split': 'validation'}, {'chunk_id': 'validation_sample_4_chunk_1', 'text': 'Nifwaya chibili lije nkhogolo pa ibo kwene bazamukoba basofi ba Chiuta na Khlistu bazamulamulila naye kwa vyaka chiku chimoso.', 'source_sample_id': 'validation_sample_4', 'chunk_index': 1, 'start': 36.516999999999996, 'end': 36.617, 'duration': 0.1, 'word_count': 19, 'asr_transcription': '', 'match_score': 0, 'dataset_name': 'sil-ai/senga-nt-asr-inferred', 'split': 'validation'}, {'chunk_id': 'validation_sample_5_chunk_0', 'text': 'chifukwa cha uchizi uwo Chiuta akanipa numuphalilani imwe mose kuti muleke kujiganizila mweka kujumpha umo mukwenela aganizila Kwene muwe bojikola mukaganizilo kinu, aliyose wa imwe achipimilenge mu nchigomezyo icho Chiuta emupa Nga ni umo tilili na vibalo vinandi mu thupi limoza, ndipo vibalo vyose vina nchito zopambana pambana ntheula pela nangauli tibanandi. Tithupi limoza apo patikana na Khlistu, Tose tibanyana yumoza ku munyake, ngamvibalo vyopambana pambana vyathupi limoza. Tinavyo vyawanangwa vyopambana pambana kuyanana umo Chiuta iti pila mu uchizi wake.', 'source_sample_id': 'validation_sample_5', 'chunk_index': 0, 'start': 4.36, 'end': 4.46, 'duration': 0.1, 'word_count': 80, 'asr_transcription': '', 'match_score': 0, 'dataset_name': 'sil-ai/senga-nt-asr-inferred', 'split': 'validation'}, {'chunk_id': 'validation_sample_5_chunk_1', 'text': 'Pala ena chawanangwa chochima, okwenela chisebezesha kuyanana chigomezyo chake. Pala nkhutebeta, atebete. Pala nkhusambizya, asambizye. Pala nkhuchisha, achishenge. Pala nkhuvwila anyake, aba vwile mwa wanangwa. Pala mbudangilili, adangilile makola. Pala nkhulongola lusungu, awulongole muosangwa.', 'source_sample_id': 'validation_sample_5', 'chunk_index': 1, 'start': 12.321, 'end': 12.421, 'duration': 0.1, 'word_count': 34, 'asr_transcription': '', 'match_score': 0, 'dataset_name': 'sil-ai/senga-nt-asr-inferred', 'split': 'validation'}, {'chunk_id': 'validation_sample_6_chunk_0', 'text': 'Chifukwa ni mungelonjuti uyo chiuta akamuphalilapo kuti, Ndiwe mwana wane na leno na bawuso? Panji kuti, nibenge wise ndipo abenge mwana wane? Ndipo apo chiuta akaleta mwana wake oyamba pa chalo, akati, \"Lekani angelo bose bachiuta bamsope. \" Ndipo apo chiuta akayowoya zangelo akati, \"Iye akazya la angelo bake kuba mizimu, ndipo banchito bake kuba kulipuka kwa moto. \" Kwene poyowoya zamwana wake, akati, \"Chizumbe chinu chiuta nchamuyila ila, ndipo ulunji ubenge ndodo ya ufumu winu.', 'source_sample_id': 'validation_sample_6', 'chunk_index': 0, 'start': 27.522, 'end': 27.622, 'duration': 0.1, 'word_count': 76, 'asr_transcription': '', 'match_score': 0, 'dataset_name': 'sil-ai/senga-nt-asr-inferred', 'split': 'validation'}, {'chunk_id': 'validation_sample_6_chunk_1', 'text': '\" Mwite mwa ulunji notinkha uheni, Pachifukwa ichi, chiuta uyo ni chiuta wako yekutumbika kujumpha anyako pokuphakazya mafuta ya chimwemwe. Ndipo akayowoya sokuti, \"Poyamba fumu mukapanga lufulo wa chalo cha pasi, ndipo vyakuchanya vyose ni njito zamawoko binu. \" Ivi vimalenge kwene imwe mukhalilijengu. Ivi vimalenge nga njo ovwala. Vyose ivi nzamvipeteka nga njo ovwala, ndipo vizamuchinja nga ni mukhanjo, kwene imwe muzamukuba umo mulili, ndipo vyakavinu vizamumala yayi.', 'source_sample_id': 'validation_sample_6', 'chunk_index': 1, 'start': 36.643, 'end': 36.743, 'duration': 0.1, 'word_count': 69, 'asr_transcription': '', 'match_score': 0, 'dataset_name': 'sil-ai/senga-nt-asr-inferred', 'split': 'validation'}, {'chunk_id': 'validation_sample_6_chunk_2', 'text': 'Kasi nimungelonjuti uyo chiuta akamuphalila kuti, Khala kuti okochane cha malyelo mpaka nizyoleba lwani bako kuba chotambalila cha malundi yako. Kasi angelo ni mizimu iyo chiuta wotuma kuvila abo bazamupokela chiponosho yayi.', 'source_sample_id': 'validation_sample_6', 'chunk_index': 2, 'start': 50.964, 'end': 51.064, 'duration': 0.1, 'word_count': 32, 'asr_transcription': '', 'match_score': 0, 'dataset_name': 'sil-ai/senga-nt-asr-inferred', 'split': 'validation'}, {'chunk_id': 'validation_sample_7_chunk_0', 'text': 'Nipela nkhapulika mazyo ya nyake kuyowoya kuti, banthu bane Fumanimwa mwa iye kuti muleke kusanita mzakwananga zake namwe kuti mzaleke kupokela chilichose pa masuzyo yake. Chifukwa zakwananga zake zawinjikika kufika kuchanya, ntheula Chiuta wakumbuka vichito vyake viheni. Muwezyelani ngali umo iyo wapelekela. Pa ivyo echita muwezyelani kabili, Sazyani kabili mpimo wa vyamunkhombo yake. Musuzyani nomupulicha chitima nga ni makazyitu kumulila nojikondwelesha na usambazi wake.', 'source_sample_id': 'validation_sample_7', 'chunk_index': 0, 'start': 1.7209999999999999, 'end': 1.821, 'duration': 0.1, 'word_count': 64, 'asr_transcription': '', 'match_score': 0, 'dataset_name': 'sil-ai/senga-nt-asr-inferred', 'split': 'validation'}, {'chunk_id': 'validation_sample_7_chunk_1', 'text': 'Ozyi tukumula mu mtima wake kuti, nukhala monga ni fumukazi, ndine chokolo yayi, nizamulilapo yayi, ntheula mzuba limoza uwabwa. Masuzyo ya zakumsanga, masuzyo nga ni nyifwa kulila na njala. Azamkupya na moto, chifukwa onkhongolo zose ni Chiuta uyo omweluzya iye.', 'source_sample_id': 'validation_sample_7', 'chunk_index': 1, 'start': 12.664, 'end': 12.764, 'duration': 0.1, 'word_count': 40, 'asr_transcription': '', 'match_score': 0, 'dataset_name': 'sil-ai/senga-nt-asr-inferred', 'split': 'validation'}, {'chunk_id': 'validation_sample_8_chunk_0', 'text': 'Ntheula bafalisi banyake na basambizi ba malango bakati kwa iye? Msambizi, tufwaya kuti tiwone vimanyikwilo vyamunthondwe kufuma kwa iwe? Yesu akabazyola kuti, \"Muwilo uhene wambula kugomezyeka ufwaya vimanyikwilo vyamunthondwe, vipelekekenge yayi kwene chimanyikwilo chanchimi Yona pela? Nga ni umo yona akaba mnthumbo mwa chisomba kwa mazuba yatatu? Ndipo naye Mwana wa Munthu azamukuba mdindi kwa mazuba yatatu, pa zuba la chiyeluzyo, banthu ba mu Ninive bazamukuwususha muwilo uwu, chifukwa bakalapa pa uphalazyi wa Yona, kwene mkulu kujumpha Yona wepano.', 'source_sample_id': 'validation_sample_8', 'chunk_index': 0, 'start': 21.104, 'end': 21.204, 'duration': 0.1, 'word_count': 79, 'asr_transcription': '', 'match_score': 0, 'dataset_name': 'sil-ai/senga-nt-asr-inferred', 'split': 'validation'}, {'chunk_id': 'validation_sample_9_chunk_0', 'text': 'Kwene iwe umanya makola chomene za chisambizyo chane? Kakhalilokane, lingolane, chigomezyo kuzikila, chitemwa kuzizipizya kuzikizyika ndipo na visuzyo ivye vikachitika kwa ine muwantiyoke. Ikoniya na lisitiya, nkhazizipizya kuzikizyika ndipo fumu ikanuwombula ku vyose ivi. Mwonenesho wose, aliyose uyo openja kukhala umoyo wa uchiuta mwakhlistu Yesu wamuzikizyika, apo banthu baheni na bapusikizi bamukhalila thubaheni ndipo bapusikizi womanyila thunchito kuzyanga nozangika. Kwene kwa iwe, Pitilizya mu ivyo wisambila nogomezya chifukwa ubamanya awo wisambilako.', 'source_sample_id': 'validation_sample_9', 'chunk_index': 0, 'start': 24.147, 'end': 24.247, 'duration': 0.1, 'word_count': 71, 'asr_transcription': '', 'match_score': 0, 'dataset_name': 'sil-ai/senga-nt-asr-inferred', 'split': 'validation'}, {'chunk_id': 'validation_sample_9_chunk_1', 'text': 'Ndipo kufuma ku wanicho uyamanya malemba ya tuba, ayo yanga kulengesha kubana vinjelu kupitila muchigomezyo mwakhlistu Yesu. Malemba yose yafumila ku mufucho wa Chiuta ndipo ngozilwa posambizya, pokalipila ponozya vyosovyeka na polongozya mu ulunji, mwakuti mutebeti wa Chiuta akhale wonozyeka kuchita nchito iwemi liyose.', 'source_sample_id': 'validation_sample_9', 'chunk_index': 1, 'start': 26.006999999999998, 'end': 26.107, 'duration': 0.1, 'word_count': 44, 'asr_transcription': '', 'match_score': 0, 'dataset_name': 'sil-ai/senga-nt-asr-inferred', 'split': 'validation'}]\n"
     ]
    }
   ],
   "source": [
    "import modal\n",
    "import pandas as pd\n",
    "fa = modal.Function.from_name(\n",
    "    \"general-forced-alignment\",\n",
    "    \"align_from_dataset_parallel\",\n",
    "    environment_name='dev',\n",
    ")\n",
    "fa.hydrate()\n",
    "# Prepare the arguments, filtering out None values\n",
    "align_args = {\n",
    "            \"dataset_name\": \"sil-ai/senga-nt-asr-inferred\",\n",
    "            \"text_column\": \"text\",\n",
    "            \"audio_column\": \"audio\",\n",
    "            \"max_words\": 80,\n",
    "            \"romanize\": False,\n",
    "            \"mms_lang\": \"swh\",\n",
    "            \"output_dataset_name\": \"sil-ai/forced-alignment-API-test\",\n",
    "            \"limit\": 10,  # Don't process all 1000+ files, just a few for testing\n",
    "}\n",
    "# Remove None values\n",
    "align_args = {k: v for k, v in align_args.items() if v is not None}\n",
    "result = fa.remote(**align_args)\n",
    "print(type(result))\n",
    "print(result) "
   ]
  },
  {
   "cell_type": "code",
   "execution_count": null,
   "metadata": {},
   "outputs": [],
   "source": [
    "import modal\n",
    "import pandas as pd\n",
    "\n",
    "fa_class = modal.Cls.lookup(\"general-forced-alignment\", \"ForcedAligner\")\n",
    "fa = fa_class()\n",
    "fa_results = fa.align_from_s3.remote(\n",
    "            audio_files=audio_files,\n",
    "            romanize=False,\n",
    "        )\n",
    "fa_results_df = pd.DataFrame.from_dict(fa_results)\n",
    "fa_results_df"
   ]
  },
  {
   "cell_type": "code",
   "execution_count": 21,
   "metadata": {},
   "outputs": [],
   "source": [
    "# Split audio files into segments based on timestamps and save results\n",
    "\n",
    "source_file = fa_results_df['source_file'][0]\n",
    "aud, sr = torchaudio.load('audio/John/' + source_file + '.mp3')\n",
    "\n",
    "for index, row in fa_results_df.iterrows():\n",
    "    if row['source_file'] != source_file:\n",
    "        source_file = row['source_file']\n",
    "        aud, sr = torchaudio.load('audio/John/' + source_file + '.mp3')\n",
    "    filename = row['filename']\n",
    "    if sr != 16000:\n",
    "        aud = torchaudio.functional.resample(aud, orig_freq=sr, new_freq=16000)\n",
    "        sr = 16000\n",
    "    start = row['start']\n",
    "    end = row['end']\n",
    "    sub_aud = aud[:, int(start*sr):int(end*sr)]\n",
    "    torchaudio.save(filename, sub_aud, sr)\n",
    "    #ipd.display(ipd.Audio(sub_aud, rate=sr))"
   ]
  },
  {
   "cell_type": "code",
   "execution_count": null,
   "metadata": {},
   "outputs": [],
   "source": [
    "# Check that the alignment is correct\n",
    "\n",
    "test_verse = 'output/JHN_2_2.wav'\n",
    "aud, sr = torchaudio.load(test_verse)\n",
    "print(fa_results_df[fa_results_df['filename'] == test_verse].reset_index(\n",
    "    drop=True).loc[0]['text'])\n",
    "ipd.display(ipd.Audio(aud, rate=sr))"
   ]
  },
  {
   "cell_type": "code",
   "execution_count": null,
   "metadata": {},
   "outputs": [],
   "source": [
    "# Example: Using sister language transcription for better ASR quality\n",
    "# This is useful when you have audio in a language that's similar to a well-supported language\n",
    "\n",
    "\"\"\"\n",
    "# Example with sister language transcription (e.g., using French for a French-related language)\n",
    "import modal\n",
    "import pandas as pd\n",
    "\n",
    "# Get the Modal function reference\n",
    "align_from_s3_parallel = modal.Function.lookup(\"general-forced-alignment\", \"align_from_s3_parallel\")\n",
    "\n",
    "# Call with sister language support\n",
    "fa_results_sister = align_from_s3_parallel.remote(\n",
    "    audio_files=audio_files,\n",
    "    romanize=False,\n",
    "    sister_lang=\"fra\",  # Use French as sister language for better ASR\n",
    "    batch_size=2,\n",
    "    output_dataset_name=None\n",
    ")\n",
    "\n",
    "fa_results_sister_df = pd.DataFrame.from_dict(fa_results_sister)\n",
    "\n",
    "# Compare ASR quality between original and sister language transcription\n",
    "print(\"Original ASR vs Sister Language ASR:\")\n",
    "for i in range(min(5, len(fa_results_df))):\n",
    "    print(f\"\\\\nSegment {i}:\")\n",
    "    print(f\"Original:  {fa_results_df.iloc[i]['asr_transcription']}\")\n",
    "    print(f\"Sister:    {fa_results_sister_df.iloc[i]['asr_transcription']}\")\n",
    "    print(f\"Expected:  {fa_results_df.iloc[i]['text']}\")\n",
    "\"\"\"\n",
    "\n",
    "print(\"Sister language transcription example above - uncomment to use!\")\n"
   ]
  },
  {
   "cell_type": "code",
   "execution_count": null,
   "metadata": {},
   "outputs": [],
   "source": [
    "# Optionally upload results to Hugging Face\n",
    "\n",
    "hf_dataset = \"sil-ai/nya_jhn1_2\"\n",
    "dotenv.load_dotenv()\n",
    "HF_TOKEN = os.getenv(\"HF_TOKEN\")\n",
    "\n",
    "ds = Dataset.from_pandas(fa_results_df) \n",
    "ds = ds.cast_column(\"filename\", Audio(sampling_rate=16_000))\n",
    "ds = ds.rename_column(\"filename\", \"audio\")\n",
    "sample = ds[1]\n",
    "print(sample[\"text\"])\n",
    "print(sample[\"audio\"][\"sampling_rate\"], len(sample[\"audio\"][\"array\"]))\n",
    "ds.push_to_hub(hf_dataset, private=True, token=HF_TOKEN)"
   ]
  }
 ],
 "metadata": {
  "kernelspec": {
   "display_name": ".venv",
   "language": "python",
   "name": "python3"
  },
  "language_info": {
   "codemirror_mode": {
    "name": "ipython",
    "version": 3
   },
   "file_extension": ".py",
   "mimetype": "text/x-python",
   "name": "python",
   "nbconvert_exporter": "python",
   "pygments_lexer": "ipython3",
   "version": "3.11.13"
  }
 },
 "nbformat": 4,
 "nbformat_minor": 2
}
