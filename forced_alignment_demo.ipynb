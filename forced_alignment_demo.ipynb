{
 "cells": [
  {
   "cell_type": "code",
   "execution_count": null,
   "metadata": {},
   "outputs": [
    {
     "name": "stdout",
     "output_type": "stream",
     "text": [
      "['JHN_001_001-001_051.mp3', 'JHN_002_001-002_025.mp3']\n"
     ]
    }
   ],
   "source": [
    "import dotenv\n",
    "import IPython.display as ipd\n",
    "import os\n",
    "import pandas as pd\n",
    "import re\n",
    "import torchaudio\n",
    "\n",
    "from datasets import Dataset, Audio\n",
    "\n",
    "audio_files = os.listdir('audio/John')\n",
    "print(audio_files)\n",
    "# Audio files need to be in the following format: \n",
    "# [book]_[start_chapter]_[start_verse]-[end_chapter]_[end_verse].wav"
   ]
  },
  {
   "cell_type": "code",
   "execution_count": 2,
   "metadata": {},
   "outputs": [
    {
     "name": "stdout",
     "output_type": "stream",
     "text": [
      "Start:  JHN 001 001\n",
      "End:  JHN 002 025\n"
     ]
    }
   ],
   "source": [
    "start_match = re.search(r'([A-Za-z]+)_(\\d{3})_(\\d{3})', audio_files[0])\n",
    "start_book, start_ch, start_vs = start_match.groups()\n",
    "end_match = re.search(r'([A-Za-z]+)_(\\d{3})_(\\d{3})-(\\d{3})_(\\d{3})', audio_files[-1])\n",
    "end_book, _, _, end_ch, end_vs = end_match.groups()\n",
    "print(\"Start: \", start_book, start_ch, start_vs)\n",
    "print(\"End: \", end_book, end_ch, end_vs)"
   ]
  },
  {
   "cell_type": "code",
   "execution_count": 3,
   "metadata": {},
   "outputs": [
    {
     "name": "stdout",
     "output_type": "stream",
     "text": [
      "JHN 1:1\n",
      " Pachiyambi panali Mawu, ndipo Mawu anali kwa Mulungu, ndipo Mawu ndiye Mulungu.\n",
      "JHN 1:2\n",
      " Mawuwa anali ndi Mulungu pachiyambi.\n",
      "JHN 1:3\n",
      " Zinthu zonse zinalengedwa ndi Iye; ndipo popanda Iye sikukanakhala kanthu kalikonse kolengedwa.\n"
     ]
    }
   ],
   "source": [
    "# load Chichewa John 1 and 2 from text file\n",
    "with open(\"nya_jhn1_2.txt\", \"r\", encoding='utf-8') as file:\n",
    "    nya_jhn_lines = file.readlines()\n",
    "    nya_jhn_lines = [l.strip() for l in nya_jhn_lines]\n",
    "\n",
    "# load vref from text file and find start and end index for John 1:1 to John 1:5\n",
    "with open(\"vref.txt\", \"r\") as file:\n",
    "    vref_lines = file.readlines()\n",
    "    for index, line in enumerate(vref_lines):\n",
    "        if line.strip() == f\"{start_book} {str(int(start_ch))}:{str(int(start_vs))}\":\n",
    "            start_index = index\n",
    "        if line.strip() == f\"{end_book} {str(int(end_ch))}:{str(int(end_vs))}\":\n",
    "            end_index = index\n",
    "            break\n",
    "\n",
    "# view first three lines of John 1\n",
    "for i in range(start_index, start_index + 3):\n",
    "    print(vref_lines[i], nya_jhn_lines[i])\n",
    "\n",
    "vref_lines = vref_lines[start_index:end_index]\n",
    "nya_jhn_lines = nya_jhn_lines[start_index:end_index]"
   ]
  },
  {
   "cell_type": "code",
   "execution_count": 4,
   "metadata": {},
   "outputs": [
    {
     "data": {
      "text/plain": [
       "{'key': 'JHN 1:1\\n',\n",
       " 'text': 'Pachiyambi panali Mawu, ndipo Mawu anali kwa Mulungu, ndipo Mawu ndiye Mulungu.'}"
      ]
     },
     "execution_count": 4,
     "metadata": {},
     "output_type": "execute_result"
    }
   ],
   "source": [
    "ref_data = [{'key': vl, 'text': rl} for vl, rl in zip(vref_lines, nya_jhn_lines)]\n",
    "ref_data_items = [[verse for verse in ref_data if verse['key'].startswith('JHN 1')], \n",
    "                  [verse for verse in ref_data if verse['key'].startswith('JHN 2')]]\n",
    "ref_data_items[0][0]"
   ]
  },
  {
   "cell_type": "code",
   "execution_count": null,
   "metadata": {},
   "outputs": [],
   "source": [
    "import boto3\n",
    "\n",
    "def get_s3_object_urls(bucket_name, folder_prefix):\n",
    "  s3_client = boto3.client('s3')\n",
    "  object_urls = []\n",
    "  response = s3_client.list_objects_v2(Bucket=bucket_name, Prefix=folder_prefix)\n",
    "  if 'Contents' in response:\n",
    "    for obj in response['Contents']:\n",
    "      object_url = f\"https://{bucket_name}.s3.amazonaws.com/{obj['Key']}\"\n",
    "      object_urls.append(object_url.replace(f\"https://\", \"s3://\").replace('.s3.amazonaws.com', ''))\n",
    "\n",
    "  return [url for url in object_urls if url.endswith((\".wav\", \".mp3\", \".m4a\"))]\n",
    "\n",
    "bucket = 'forcedalignment'\n",
    "folder = 'input_data/audio/Chichewa_John_1-2/'\n",
    "\n",
    "s3paths = get_s3_object_urls(bucket, folder)\n",
    "s3paths"
   ]
  },
  {
   "cell_type": "code",
   "execution_count": null,
   "metadata": {},
   "outputs": [],
   "source": [
    "audio_files = [{\n",
    "    #\"filename\": s3paths[i].split(\"/\")[-1],\n",
    "    \"s3_path\": s3paths[i],\n",
    "    #\"ref_text\": [{'text': item['text']} for item in ref_data_items[i]]\n",
    "    \"ref_text\": ref_data_items[i]\n",
    "} for i in range(len(s3paths))]\n",
    "audio_files"
   ]
  },
  {
   "cell_type": "code",
   "execution_count": 48,
   "metadata": {},
   "outputs": [
    {
     "name": "stderr",
     "output_type": "stream",
     "text": [
      "C:\\Program Files\\WindowsApps\\PythonSoftwareFoundation.Python.3.12_3.12.2800.0_x64__qbz5n2kfra8p0\\Lib\\asyncio\\events.py:88: DeprecationError: 2025-01-27: `modal.Cls.lookup` is deprecated and will be removed in a future release. It can be replaced with `modal.Cls.from_name`.\n",
      "\n",
      "See https://modal.com/docs/guide/modal-1-0-migration for more information.\n",
      "  self._context.run(self._callback, *self._args)\n"
     ]
    },
    {
     "data": {
      "text/html": [
       "<div>\n",
       "<style scoped>\n",
       "    .dataframe tbody tr th:only-of-type {\n",
       "        vertical-align: middle;\n",
       "    }\n",
       "\n",
       "    .dataframe tbody tr th {\n",
       "        vertical-align: top;\n",
       "    }\n",
       "\n",
       "    .dataframe thead th {\n",
       "        text-align: right;\n",
       "    }\n",
       "</style>\n",
       "<table border=\"1\" class=\"dataframe\">\n",
       "  <thead>\n",
       "    <tr style=\"text-align: right;\">\n",
       "      <th></th>\n",
       "      <th>filename</th>\n",
       "      <th>text</th>\n",
       "      <th>source_file</th>\n",
       "      <th>start</th>\n",
       "      <th>end</th>\n",
       "      <th>asr_transcription</th>\n",
       "    </tr>\n",
       "  </thead>\n",
       "  <tbody>\n",
       "    <tr>\n",
       "      <th>0</th>\n",
       "      <td>output/JHN_001_001-001_051_0.wav</td>\n",
       "      <td>Pachiyambi panali Mawu, ndipo Mawu anali kwa M...</td>\n",
       "      <td>JHN_001_001-001_051</td>\n",
       "      <td>1.18</td>\n",
       "      <td>8.18</td>\n",
       "      <td>patiani panardima dipomau anadikamunu dipoma n...</td>\n",
       "    </tr>\n",
       "    <tr>\n",
       "      <th>1</th>\n",
       "      <td>output/JHN_001_001-001_051_1.wav</td>\n",
       "      <td>Mawuwa anali ndi Mulungu pachiyambi.</td>\n",
       "      <td>JHN_001_001-001_051</td>\n",
       "      <td>9.54</td>\n",
       "      <td>12.30</td>\n",
       "      <td>maowa annidimuugu patiadi</td>\n",
       "    </tr>\n",
       "  </tbody>\n",
       "</table>\n",
       "</div>"
      ],
      "text/plain": [
       "                           filename  \\\n",
       "0  output/JHN_001_001-001_051_0.wav   \n",
       "1  output/JHN_001_001-001_051_1.wav   \n",
       "\n",
       "                                                text          source_file  \\\n",
       "0  Pachiyambi panali Mawu, ndipo Mawu anali kwa M...  JHN_001_001-001_051   \n",
       "1               Mawuwa anali ndi Mulungu pachiyambi.  JHN_001_001-001_051   \n",
       "\n",
       "   start    end                                  asr_transcription  \n",
       "0   1.18   8.18  patiani panardima dipomau anadikamunu dipoma n...  \n",
       "1   9.54  12.30                          maowa annidimuugu patiadi  "
      ]
     },
     "execution_count": 48,
     "metadata": {},
     "output_type": "execute_result"
    }
   ],
   "source": [
    "import modal\n",
    "\n",
    "fa_class = modal.Cls.lookup(\"general-forced-alignment\", \"ForcedAligner\")\n",
    "fa = fa_class()\n",
    "\n",
    "fa.load_model.remote(\"facebook/wav2vec2-base-960h\")\n",
    "fa_results = fa.align_from_s3.remote(\n",
    "        audio_files=audio_files,\n",
    "        romanize=False,\n",
    "    )\n",
    "fa_results_df = pd.DataFrame.from_dict(fa_results)\n",
    "fa_results_df.head(2)"
   ]
  },
  {
   "cell_type": "code",
   "execution_count": 43,
   "metadata": {},
   "outputs": [
    {
     "data": {
      "text/html": [
       "<div>\n",
       "<style scoped>\n",
       "    .dataframe tbody tr th:only-of-type {\n",
       "        vertical-align: middle;\n",
       "    }\n",
       "\n",
       "    .dataframe tbody tr th {\n",
       "        vertical-align: top;\n",
       "    }\n",
       "\n",
       "    .dataframe thead th {\n",
       "        text-align: right;\n",
       "    }\n",
       "</style>\n",
       "<table border=\"1\" class=\"dataframe\">\n",
       "  <thead>\n",
       "    <tr style=\"text-align: right;\">\n",
       "      <th></th>\n",
       "      <th>filename</th>\n",
       "      <th>text</th>\n",
       "      <th>source_file</th>\n",
       "      <th>start</th>\n",
       "      <th>end</th>\n",
       "      <th>asr_transcription</th>\n",
       "      <th>match_score</th>\n",
       "    </tr>\n",
       "  </thead>\n",
       "  <tbody>\n",
       "    <tr>\n",
       "      <th>19</th>\n",
       "      <td>output/JHN_001_001-001_051.mp3_19.wav</td>\n",
       "      <td>Iye sanalephere kuvomereza, koma iye anavomere...</td>\n",
       "      <td>JHN_001_001-001_051.mp3</td>\n",
       "      <td>197.063</td>\n",
       "      <td>205.243</td>\n",
       "      <td>esanadi pere kukumereza komai anapomerza momas...</td>\n",
       "      <td>81</td>\n",
       "    </tr>\n",
       "    <tr>\n",
       "      <th>33</th>\n",
       "      <td>output/JHN_001_001-001_051.mp3_33.wav</td>\n",
       "      <td>Ine ndaona ndipo ndikuchitira umboni kuti uyu ...</td>\n",
       "      <td>JHN_001_001-001_051.mp3</td>\n",
       "      <td>356.706</td>\n",
       "      <td>362.646</td>\n",
       "      <td>ine daona dipo nkucitira kumoni kutikuyu diman...</td>\n",
       "      <td>79</td>\n",
       "    </tr>\n",
       "    <tr>\n",
       "      <th>4</th>\n",
       "      <td>output/JHN_001_001-001_051.mp3_4.wav</td>\n",
       "      <td>Kuwunika kunawala mu mdima, koma mdimawo sunak...</td>\n",
       "      <td>JHN_001_001-001_051.mp3</td>\n",
       "      <td>31.120</td>\n",
       "      <td>37.561</td>\n",
       "      <td>kunica unaana mum dima komam dima sunkuzindigi</td>\n",
       "      <td>78</td>\n",
       "    </tr>\n",
       "    <tr>\n",
       "      <th>7</th>\n",
       "      <td>output/JHN_001_001-001_051.mp3_7.wav</td>\n",
       "      <td>Iyeyu sanali kuwunika; koma anabwera ngati mbo...</td>\n",
       "      <td>JHN_001_001-001_051.mp3</td>\n",
       "      <td>56.901</td>\n",
       "      <td>62.521</td>\n",
       "      <td>e sanadikuniga koma anamera gatiboni yakunica</td>\n",
       "      <td>77</td>\n",
       "    </tr>\n",
       "    <tr>\n",
       "      <th>23</th>\n",
       "      <td>output/JHN_001_001-001_051.mp3_23.wav</td>\n",
       "      <td>Tsopano Afarisi ena amene anatumidwa</td>\n",
       "      <td>JHN_001_001-001_051.mp3</td>\n",
       "      <td>242.684</td>\n",
       "      <td>245.224</td>\n",
       "      <td>topanafarisina amini anarumida</td>\n",
       "      <td>76</td>\n",
       "    </tr>\n",
       "  </tbody>\n",
       "</table>\n",
       "</div>"
      ],
      "text/plain": [
       "                                 filename  \\\n",
       "19  output/JHN_001_001-001_051.mp3_19.wav   \n",
       "33  output/JHN_001_001-001_051.mp3_33.wav   \n",
       "4    output/JHN_001_001-001_051.mp3_4.wav   \n",
       "7    output/JHN_001_001-001_051.mp3_7.wav   \n",
       "23  output/JHN_001_001-001_051.mp3_23.wav   \n",
       "\n",
       "                                                 text  \\\n",
       "19  Iye sanalephere kuvomereza, koma iye anavomere...   \n",
       "33  Ine ndaona ndipo ndikuchitira umboni kuti uyu ...   \n",
       "4   Kuwunika kunawala mu mdima, koma mdimawo sunak...   \n",
       "7   Iyeyu sanali kuwunika; koma anabwera ngati mbo...   \n",
       "23               Tsopano Afarisi ena amene anatumidwa   \n",
       "\n",
       "                source_file    start      end  \\\n",
       "19  JHN_001_001-001_051.mp3  197.063  205.243   \n",
       "33  JHN_001_001-001_051.mp3  356.706  362.646   \n",
       "4   JHN_001_001-001_051.mp3   31.120   37.561   \n",
       "7   JHN_001_001-001_051.mp3   56.901   62.521   \n",
       "23  JHN_001_001-001_051.mp3  242.684  245.224   \n",
       "\n",
       "                                    asr_transcription  match_score  \n",
       "19  esanadi pere kukumereza komai anapomerza momas...           81  \n",
       "33  ine daona dipo nkucitira kumoni kutikuyu diman...           79  \n",
       "4      kunica unaana mum dima komam dima sunkuzindigi           78  \n",
       "7       e sanadikuniga koma anamera gatiboni yakunica           77  \n",
       "23                     topanafarisina amini anarumida           76  "
      ]
     },
     "execution_count": 43,
     "metadata": {},
     "output_type": "execute_result"
    }
   ],
   "source": [
    "from fuzzywuzzy import fuzz\n",
    "fa_results_df.reset_index(drop=True, inplace=True)\n",
    "fa_results_df['match_score'] = fa_results_df.apply(lambda row: fuzz.ratio(row['text'], row['asr_transcription']), axis=1)\n",
    "fa_results_df.sort_values(by='match_score', ascending=False).head()"
   ]
  },
  {
   "cell_type": "code",
   "execution_count": null,
   "metadata": {},
   "outputs": [],
   "source": [
    "# Split audio files into segments based on timestamps and save results\n",
    "\n",
    "source_file = fa_results_df['source_file'][0]\n",
    "aud, sr = torchaudio.load('audio/John/' + source_file)\n",
    "\n",
    "for index, row in fa_results_df.iterrows():\n",
    "    if row['source_file'] != source_file:\n",
    "        source_file = row['source_file']\n",
    "        aud, sr = torchaudio.load('audio/John/' + source_file)\n",
    "    filename = row['filename']\n",
    "    if sr != 16000:\n",
    "        aud = torchaudio.functional.resample(aud, orig_freq=sr, new_freq=16000)\n",
    "        sr = 16000\n",
    "    start = row['start']\n",
    "    end = row['end']\n",
    "    sub_aud = aud[:, int(start*sr):int(end*sr)]\n",
    "    torchaudio.save(filename, sub_aud, sr)\n",
    "    #ipd.display(ipd.Audio(sub_aud, rate=sr))"
   ]
  },
  {
   "cell_type": "code",
   "execution_count": null,
   "metadata": {},
   "outputs": [],
   "source": [
    "# Check that the alignment is correct\n",
    "\n",
    "test_verse = 'output/JHN_2_2.wav'\n",
    "aud, sr = torchaudio.load(test_verse)\n",
    "print(fa_results_df[fa_results_df['filename'] == test_verse].reset_index(\n",
    "    drop=True).loc[0]['text'])\n",
    "ipd.display(ipd.Audio(aud, rate=sr))"
   ]
  },
  {
   "cell_type": "code",
   "execution_count": null,
   "metadata": {},
   "outputs": [],
   "source": [
    "# Optionally upload results to Hugging Face\n",
    "\n",
    "hf_dataset = \"sil-ai/nya_jhn1_2\"\n",
    "dotenv.load_dotenv()\n",
    "HF_TOKEN = os.getenv(\"HF_TOKEN\")\n",
    "\n",
    "ds = Dataset.from_pandas(fa_results_df) \n",
    "ds = ds.cast_column(\"filename\", Audio(sampling_rate=16_000))\n",
    "ds = ds.rename_column(\"filename\", \"audio\")\n",
    "sample = ds[1]\n",
    "print(sample[\"text\"])\n",
    "print(sample[\"audio\"][\"sampling_rate\"], len(sample[\"audio\"][\"array\"]))\n",
    "ds.push_to_hub(hf_dataset, private=True, token=HF_TOKEN)"
   ]
  }
 ],
 "metadata": {
  "kernelspec": {
   "display_name": "venv",
   "language": "python",
   "name": "python3"
  },
  "language_info": {
   "codemirror_mode": {
    "name": "ipython",
    "version": 3
   },
   "file_extension": ".py",
   "mimetype": "text/x-python",
   "name": "python",
   "nbconvert_exporter": "python",
   "pygments_lexer": "ipython3",
   "version": "3.12.10"
  }
 },
 "nbformat": 4,
 "nbformat_minor": 2
}
